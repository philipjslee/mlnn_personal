{
 "cells": [
  {
   "cell_type": "markdown",
   "metadata": {
    "collapsed": true
   },
   "source": [
    "# HW \n",
    "- Use the cancer data used below (or the first two columns of the iris data set) - for bonus, bring your own data set\n",
    "- Normalize, test-train split the data\n",
    "- Train models from SVM (linear and rbf kernels), LogRegression (2 values of C), KNN (3 neighbor values)\n",
    "- Create two tables, one for train, one for test - that represent the Model, description, Precision, Recall, f1 score on each line\n",
    "- Pick one of the Models and show the feature importance"
   ]
  },
  {
   "cell_type": "code",
   "execution_count": 124,
   "metadata": {
    "collapsed": true
   },
   "outputs": [],
   "source": [
    "%matplotlib inline\n",
    "\n",
    "from sklearn.metrics import confusion_matrix\n",
    "from sklearn.metrics import classification_report\n",
    "from sklearn.metrics import precision_recall_fscore_support as score\n",
    "import sklearn.preprocessing\n",
    "\n",
    "import numpy as np\n",
    "import matplotlib.pyplot as plt\n",
    "import pandas as pd\n",
    "from sklearn import linear_model, datasets, svm, neighbors\n",
    "from sklearn.linear_model import LogisticRegression as LogReg\n",
    "from sklearn.neighbors import KNeighborsRegressor as KNN"
   ]
  },
  {
   "cell_type": "code",
   "execution_count": 105,
   "metadata": {},
   "outputs": [],
   "source": [
    "cancer = pd.read_csv('../data/wdbc.data.txt', header=None)"
   ]
  },
  {
   "cell_type": "code",
   "execution_count": 106,
   "metadata": {},
   "outputs": [],
   "source": [
    "y = (cancer[1]=='M').astype(int)\n",
    "X = cancer[[*range(2,31)]]\n",
    "X = sklearn.preprocessing.MinMaxScaler().fit_transform(x)"
   ]
  },
  {
   "cell_type": "code",
   "execution_count": 107,
   "metadata": {},
   "outputs": [],
   "source": [
    "from sklearn.model_selection import train_test_split\n",
    "X_train, X_test, y_train, y_test = train_test_split(X, y, test_size=.8)"
   ]
  },
  {
   "cell_type": "code",
   "execution_count": 132,
   "metadata": {
    "collapsed": true
   },
   "outputs": [],
   "source": [
    "model = svm.SVC(kernel='linear').fit(X_train, y_train)\n",
    "\n",
    "precision0,recall0,fscore0,support0 = score(y_train,model.predict(X_train))\n",
    "precision0a,recall0a,fscore0a,support0a = score(y_test,model.predict(X_test))"
   ]
  },
  {
   "cell_type": "code",
   "execution_count": 133,
   "metadata": {},
   "outputs": [
    {
     "data": {
      "image/png": "[encoded data removed]",
      "text/plain": [
       "<matplotlib.figure.Figure at 0x113157828>"
      ]
     },
     "metadata": {},
     "output_type": "display_data"
    }
   ],
   "source": [
    "coef = model.coef_[0]\n",
    "plt.barh(list(range(coef.shape[0])), coef, align='center')\n",
    "plt.show()"
   ]
  },
  {
   "cell_type": "code",
   "execution_count": 126,
   "metadata": {
    "collapsed": true
   },
   "outputs": [],
   "source": [
    "model = svm.SVC(kernel='rbf').fit(X_train, y_train)\n",
    "\n",
    "precision1,recall1,fscore1,support1 = score(y_train,model.predict(X_train))\n",
    "precision1a,recall1,fscore1a,support1a = score(y_test,model.predict(X_test))"
   ]
  },
  {
   "cell_type": "code",
   "execution_count": 130,
   "metadata": {},
   "outputs": [],
   "source": [
    "model = LogReg(C=5).fit(X_train, y_train)\n",
    "\n",
    "precision2,recall2,fscore2,support2 = score(y_train,model.predict(X_train))\n",
    "precision2a,recall2a,fscore2a,support2a = score(y_test,model.predict(X_test))"
   ]
  },
  {
   "cell_type": "code",
   "execution_count": 131,
   "metadata": {},
   "outputs": [
    {
     "data": {
      "image/png": "[encoded data removed]",
      "text/plain": [
       "<matplotlib.figure.Figure at 0x1131cd710>"
      ]
     },
     "metadata": {},
     "output_type": "display_data"
    }
   ],
   "source": [
    "coef = model.coef_[0]\n",
    "plt.barh(list(range(coef.shape[0])), coef, align='center')\n",
    "plt.show()"
   ]
  },
  {
   "cell_type": "code",
   "execution_count": 111,
   "metadata": {},
   "outputs": [
    {
     "name": "stdout",
     "output_type": "stream",
     "text": [
      "             precision    recall  f1-score   support\n",
      "\n",
      "          0       0.95      0.98      0.97        64\n",
      "          1       0.98      0.94      0.96        49\n",
      "\n",
      "avg / total       0.97      0.96      0.96       113\n",
      "\n"
     ]
    }
   ],
   "source": [
    "model = LogReg(C=10).fit(X_train, y_train)\n",
    "\n",
    "precision3,recall3,fscore3,support3 = score(y_train,model.predict(X_train))\n",
    "precision3a,recall3a,fscore3a,support3a = score(y_test,model.predict(X_test))\n",
    "\n",
    "print(classification_report(y_train, model.predict(X_train)))"
   ]
  },
  {
   "cell_type": "code",
   "execution_count": 112,
   "metadata": {},
   "outputs": [
    {
     "data": {
      "text/plain": [
       "array([1, 1, 0, 0, 1, 1, 1, 1, 0, 1, 0, 1, 0, 1, 1, 0, 0, 1, 0, 1, 0, 0, 0,\n",
       "       0, 0, 0, 1, 0, 1, 0, 1, 1, 1, 0, 0, 0, 1, 0, 1, 1, 1, 1, 1, 0, 0, 0,\n",
       "       0, 0, 0, 1, 1, 1, 0, 0, 0, 0, 1, 1, 0, 0, 0, 0, 0, 0, 0, 0, 1, 1, 0,\n",
       "       1, 0, 0, 0, 1, 0, 1, 1, 0, 0, 0, 1, 1, 1, 1, 0, 0, 0, 0, 1, 1, 0, 0,\n",
       "       0, 0, 0, 0, 0, 1, 0, 1, 1, 0, 0, 0, 0, 1, 1, 1, 0, 0, 0, 0, 1])"
      ]
     },
     "execution_count": 112,
     "metadata": {},
     "output_type": "execute_result"
    }
   ],
   "source": [
    "model.predict(X_train)"
   ]
  },
  {
   "cell_type": "code",
   "execution_count": 125,
   "metadata": {},
   "outputs": [
    {
     "data": {
      "text/plain": [
       "array([ 1. ,  1. ,  0. ,  0. ,  1. ,  1. ,  1. ,  0.5,  0. ,  1. ,  0. ,\n",
       "        1. ,  0. ,  1. ,  1. ,  0.5,  0. ,  1. ,  0. ,  1. ,  0. ,  0. ,\n",
       "        0. ,  0.5,  0. ,  0. ,  1. ,  0. ,  1. ,  0. ,  1. ,  1. ,  0.5,\n",
       "        0. ,  0. ,  0. ,  1. ,  0. ,  1. ,  1. ,  1. ,  1. ,  1. ,  0.5,\n",
       "        0. ,  0. ,  0. ,  0. ,  0. ,  1. ,  1. ,  1. ,  0. ,  1. ,  0. ,\n",
       "        0. ,  1. ,  1. ,  0. ,  0. ,  0. ,  0. ,  0. ,  0. ,  0. ,  0. ,\n",
       "        1. ,  1. ,  0. ,  1. ,  0. ,  0. ,  0. ,  1. ,  0. ,  1. ,  0.5,\n",
       "        0. ,  0.5,  0. ,  1. ,  1. ,  1. ,  1. ,  0. ,  0. ,  0. ,  0. ,\n",
       "        1. ,  1. ,  0. ,  0. ,  0. ,  0. ,  0. ,  0. ,  0.5,  1. ,  0. ,\n",
       "        1. ,  1. ,  0.5,  0. ,  0. ,  0. ,  1. ,  1. ,  1. ,  0. ,  0. ,\n",
       "        0. ,  0. ,  1. ])"
      ]
     },
     "execution_count": 125,
     "metadata": {},
     "output_type": "execute_result"
    }
   ],
   "source": [
    "model= neighbors.KNeighborsRegressor(n_neighbors=2).fit(X_train, y_train) \n",
    "model.predict(X_train)"
   ]
  },
  {
   "cell_type": "code",
   "execution_count": 121,
   "metadata": {},
   "outputs": [
    {
     "data": {
      "text/plain": [
       "array([[ 0.76809125,  0.5836997 ,  0.75813696, ...,  0.46485623,\n",
       "         0.89106529,  0.30317366],\n",
       "       [ 0.21860949,  0.49983091,  0.21035174, ...,  0.05781949,\n",
       "         0.16546392,  0.33096787],\n",
       "       [ 0.10951772,  0.14169767,  0.11174072, ...,  0.07984026,\n",
       "         0.24955326,  0.41711019],\n",
       "       ..., \n",
       "       [ 0.46660987,  0.32972607,  0.44647917, ...,  0.15031949,\n",
       "         0.28989691,  0.18963138],\n",
       "       [ 0.23233471,  0.38755495,  0.22527814, ...,  0.09297125,\n",
       "         0.28395189,  0.29765425],\n",
       "       [ 0.36816697,  0.17010484,  0.35298183, ...,  0.17180511,\n",
       "         0.42989691,  0.3043564 ]])"
      ]
     },
     "execution_count": 121,
     "metadata": {},
     "output_type": "execute_result"
    }
   ],
   "source": [
    "X_test"
   ]
  },
  {
   "cell_type": "code",
   "execution_count": 117,
   "metadata": {},
   "outputs": [
    {
     "ename": "ValueError",
     "evalue": "Mix type of y not allowed, got types {'continuous', 'binary'}",
     "output_type": "error",
     "traceback": [
      "\u001b[0;31m---------------------------------------------------------------------------\u001b[0m",
      "\u001b[0;31mValueError\u001b[0m                                Traceback (most recent call last)",
      "\u001b[0;32m<ipython-input-117-54c3066fbede>\u001b[0m in \u001b[0;36m<module>\u001b[0;34m()\u001b[0m\n\u001b[1;32m      1\u001b[0m \u001b[0mmodel\u001b[0m\u001b[0;34m=\u001b[0m \u001b[0mKNN\u001b[0m\u001b[0;34m(\u001b[0m\u001b[0mn_neighbors\u001b[0m\u001b[0;34m=\u001b[0m\u001b[0;36m2\u001b[0m\u001b[0;34m)\u001b[0m\u001b[0;34m.\u001b[0m\u001b[0mfit\u001b[0m\u001b[0;34m(\u001b[0m\u001b[0mX_train\u001b[0m\u001b[0;34m,\u001b[0m \u001b[0my_train\u001b[0m\u001b[0;34m)\u001b[0m\u001b[0;34m\u001b[0m\u001b[0m\n\u001b[0;32m----> 2\u001b[0;31m \u001b[0mprint\u001b[0m\u001b[0;34m(\u001b[0m\u001b[0mclassification_report\u001b[0m\u001b[0;34m(\u001b[0m\u001b[0my_train\u001b[0m\u001b[0;34m,\u001b[0m \u001b[0mmodel\u001b[0m\u001b[0;34m.\u001b[0m\u001b[0mpredict\u001b[0m\u001b[0;34m(\u001b[0m\u001b[0mX_train\u001b[0m\u001b[0;34m)\u001b[0m\u001b[0;34m)\u001b[0m\u001b[0;34m)\u001b[0m\u001b[0;34m\u001b[0m\u001b[0m\n\u001b[0m",
      "\u001b[0;32m~/anaconda3/lib/python3.6/site-packages/sklearn/metrics/classification.py\u001b[0m in \u001b[0;36mclassification_report\u001b[0;34m(y_true, y_pred, labels, target_names, sample_weight, digits)\u001b[0m\n\u001b[1;32m   1419\u001b[0m \u001b[0;34m\u001b[0m\u001b[0m\n\u001b[1;32m   1420\u001b[0m     \u001b[0;32mif\u001b[0m \u001b[0mlabels\u001b[0m \u001b[0;32mis\u001b[0m \u001b[0;32mNone\u001b[0m\u001b[0;34m:\u001b[0m\u001b[0;34m\u001b[0m\u001b[0m\n\u001b[0;32m-> 1421\u001b[0;31m         \u001b[0mlabels\u001b[0m \u001b[0;34m=\u001b[0m \u001b[0munique_labels\u001b[0m\u001b[0;34m(\u001b[0m\u001b[0my_true\u001b[0m\u001b[0;34m,\u001b[0m \u001b[0my_pred\u001b[0m\u001b[0;34m)\u001b[0m\u001b[0;34m\u001b[0m\u001b[0m\n\u001b[0m\u001b[1;32m   1422\u001b[0m     \u001b[0;32melse\u001b[0m\u001b[0;34m:\u001b[0m\u001b[0;34m\u001b[0m\u001b[0m\n\u001b[1;32m   1423\u001b[0m         \u001b[0mlabels\u001b[0m \u001b[0;34m=\u001b[0m \u001b[0mnp\u001b[0m\u001b[0;34m.\u001b[0m\u001b[0masarray\u001b[0m\u001b[0;34m(\u001b[0m\u001b[0mlabels\u001b[0m\u001b[0;34m)\u001b[0m\u001b[0;34m\u001b[0m\u001b[0m\n",
      "\u001b[0;32m~/anaconda3/lib/python3.6/site-packages/sklearn/utils/multiclass.py\u001b[0m in \u001b[0;36munique_labels\u001b[0;34m(*ys)\u001b[0m\n\u001b[1;32m     81\u001b[0m \u001b[0;34m\u001b[0m\u001b[0m\n\u001b[1;32m     82\u001b[0m     \u001b[0;32mif\u001b[0m \u001b[0mlen\u001b[0m\u001b[0;34m(\u001b[0m\u001b[0mys_types\u001b[0m\u001b[0;34m)\u001b[0m \u001b[0;34m>\u001b[0m \u001b[0;36m1\u001b[0m\u001b[0;34m:\u001b[0m\u001b[0;34m\u001b[0m\u001b[0m\n\u001b[0;32m---> 83\u001b[0;31m         \u001b[0;32mraise\u001b[0m \u001b[0mValueError\u001b[0m\u001b[0;34m(\u001b[0m\u001b[0;34m\"Mix type of y not allowed, got types %s\"\u001b[0m \u001b[0;34m%\u001b[0m \u001b[0mys_types\u001b[0m\u001b[0;34m)\u001b[0m\u001b[0;34m\u001b[0m\u001b[0m\n\u001b[0m\u001b[1;32m     84\u001b[0m \u001b[0;34m\u001b[0m\u001b[0m\n\u001b[1;32m     85\u001b[0m     \u001b[0mlabel_type\u001b[0m \u001b[0;34m=\u001b[0m \u001b[0mys_types\u001b[0m\u001b[0;34m.\u001b[0m\u001b[0mpop\u001b[0m\u001b[0;34m(\u001b[0m\u001b[0;34m)\u001b[0m\u001b[0;34m\u001b[0m\u001b[0m\n",
      "\u001b[0;31mValueError\u001b[0m: Mix type of y not allowed, got types {'continuous', 'binary'}"
     ]
    }
   ],
   "source": [
    "model= KNN(n_neighbors=2).fit(X_train, y_train) \n",
    "print(classification_report(y_train, model.predict(X_train)))"
   ]
  },
  {
   "cell_type": "code",
   "execution_count": null,
   "metadata": {},
   "outputs": [],
   "source": [
    "model= KNN(n_neighbors=2).fit(X_train, y_train) \n",
    "\n",
    "precision4,recall4,fscore4,support4 = score(y_train,model.predict(X_train)) \n",
    "precision4a,recall4a,fscore4a,support4a = score(y_test,model.predict(X_test))"
   ]
  },
  {
   "cell_type": "code",
   "execution_count": null,
   "metadata": {
    "collapsed": true
   },
   "outputs": [],
   "source": [
    "model= KNN(n_neighbors=5).fit(X_train, y_train) \n",
    "\n",
    "precision5,recall5,fscore5,support5 = score(y_train,model.predict(X_train))\n",
    "precision5a,recall5a,fscore5a,support5a = score(y_test,model.predict(X_test))"
   ]
  },
  {
   "cell_type": "code",
   "execution_count": null,
   "metadata": {
    "collapsed": true
   },
   "outputs": [],
   "source": [
    "model= KNN(n_neighbors=10).fit(X_train, y_train) \n",
    "\n",
    "precision6,recall6,fscore6,support6 = score(y_train,model.predict(X_train)) \n",
    "precision6a,recall6a,fscore6a,support6a = score(y_test,model.predict(X_test))"
   ]
  },
  {
   "cell_type": "code",
   "execution_count": null,
   "metadata": {
    "collapsed": true
   },
   "outputs": [],
   "source": [
    "MTrain = pd.DataFrame({'Model':['SVM', 'SVM', 'LogReg', 'LogReg', 'KNN', 'KNN', 'KNN']})\n",
    "\n",
    "DTrain = pd.DataFrame({'Description':['Linear', 'RBF', 'C = 5', 'C = 10', 'V = 2', 'V = 5', 'V = 10']})\n",
    "\n",
    "PTrain = pd.DataFrame({'Precision':[np.mean(precision), np.mean(precision1) , np.mean(precision2) , np.mean(precision3)\n",
    "                                     , np.mean(precision4), np.mean(precision5), np.mean(precision6)]})\n",
    "\n",
    "RTrain = pd.DataFrame({'Recall':[np.mean(recall), np.mean(recall1) , np.mean(recall2) , np.mean(recall3)\n",
    "                                     , np.mean(recall4), np.mean(recall5), np.mean(recall6)]})\n",
    "\n",
    "FTrain = pd.DataFrame({'F1 Score':[np.mean(fscore), np.mean(fscore1) , np.mean(fscore2) , np.mean(fscore3)\n",
    "                                     , np.mean(fscore4), np.mean(fscore5), np.mean(fscore6)]})\n",
    "\n",
    "MTrain.join(DTrain).join(PTrain).join(RTrain).join(Ftrain)"
   ]
  }
 ],
 "metadata": {
  "kernelspec": {
   "display_name": "Python 3",
   "language": "python",
   "name": "python3"
  },
  "language_info": {
   "codemirror_mode": {
    "name": "ipython",
    "version": 3
   },
   "file_extension": ".py",
   "mimetype": "text/x-python",
   "name": "python",
   "nbconvert_exporter": "python",
   "pygments_lexer": "ipython3",
   "version": "3.6.3"
  }
 },
 "nbformat": 4,
 "nbformat_minor": 2
}
