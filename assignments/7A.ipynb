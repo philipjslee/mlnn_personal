{
 "cells": [
  {
   "cell_type": "markdown",
   "metadata": {
    "collapsed": true
   },
   "source": [
    "# HW \n",
    "- Use the cancer data used below (or the first two columns of the iris data set) - for bonus, bring your own data set\n",
    "- Normalize, test-train split the data\n",
    "- Train models from SVM (linear and rbf kernels), LogRegression (2 values of C), KNN (3 neighbor values)\n",
    "- Create two tables, one for train, one for test - that represent the Model, description, Precision, Recall, f1 score on each line\n",
    "- Pick one of the Models and show the feature importance"
   ]
  },
  {
   "cell_type": "code",
   "execution_count": 58,
   "metadata": {
    "collapsed": true
   },
   "outputs": [],
   "source": [
    "%matplotlib inline\n",
    "\n",
    "from sklearn.metrics import confusion_matrix\n",
    "from sklearn.metrics import classification_report\n",
    "from sklearn.metrics import precision_recall_fscore_support as score\n",
    "import sklearn.preprocessing\n",
    "\n",
    "import numpy as np\n",
    "import matplotlib.pyplot as plt\n",
    "import pandas as pd\n",
    "from sklearn import linear_model, datasets, svm, neighbors\n",
    "from sklearn.linear_model import LogisticRegression as LogReg\n",
    "from sklearn.neighbors import KNeighborsClassifier as KNN"
   ]
  },
  {
   "cell_type": "code",
   "execution_count": 59,
   "metadata": {
    "collapsed": true
   },
   "outputs": [],
   "source": [
    "cancer = pd.read_csv('../data/wdbc.data.txt', header=None)"
   ]
  },
  {
   "cell_type": "code",
   "execution_count": 60,
   "metadata": {
    "collapsed": true
   },
   "outputs": [],
   "source": [
    "y = (cancer[1]=='M').astype(int)\n",
    "X = cancer[[*range(2,31)]]\n",
    "X = sklearn.preprocessing.MinMaxScaler().fit_transform(X)"
   ]
  },
  {
   "cell_type": "code",
   "execution_count": 61,
   "metadata": {
    "collapsed": true
   },
   "outputs": [],
   "source": [
    "from sklearn.model_selection import train_test_split\n",
    "X_train, X_test, y_train, y_test = train_test_split(X, y, test_size=.8)"
   ]
  },
  {
   "cell_type": "code",
   "execution_count": 76,
   "metadata": {
    "collapsed": true
   },
   "outputs": [],
   "source": [
    "model = svm.SVC(kernel='linear').fit(X_train, y_train)\n",
    "\n",
    "precision0,recall0,fscore0,support0 = score(y_train,model.predict(X_train))\n",
    "precision0a,recall0a,fscore0a,support0a = score(y_test,model.predict(X_test))"
   ]
  },
  {
   "cell_type": "code",
   "execution_count": 65,
   "metadata": {
    "collapsed": true
   },
   "outputs": [],
   "source": [
    "model = svm.SVC(kernel='rbf').fit(X_train, y_train)\n",
    "\n",
    "precision1,recall1,fscore1,support1 = score(y_train,model.predict(X_train))\n",
    "precision1a,recall1a,fscore1a,support1a = score(y_test,model.predict(X_test))"
   ]
  },
  {
   "cell_type": "code",
   "execution_count": 66,
   "metadata": {
    "collapsed": true
   },
   "outputs": [],
   "source": [
    "model = LogReg(C=5).fit(X_train, y_train)\n",
    "\n",
    "precision2,recall2,fscore2,support2 = score(y_train,model.predict(X_train))\n",
    "precision2a,recall2a,fscore2a,support2a = score(y_test,model.predict(X_test))"
   ]
  },
  {
   "cell_type": "code",
   "execution_count": 67,
   "metadata": {
    "collapsed": true
   },
   "outputs": [],
   "source": [
    "model = LogReg(C=10).fit(X_train, y_train)\n",
    "\n",
    "precision3,recall3,fscore3,support3 = score(y_train,model.predict(X_train))\n",
    "precision3a,recall3a,fscore3a,support3a = score(y_test,model.predict(X_test))"
   ]
  },
  {
   "cell_type": "code",
   "execution_count": 70,
   "metadata": {
    "collapsed": true
   },
   "outputs": [],
   "source": [
    "model= KNN(n_neighbors=2).fit(X_train, y_train) \n",
    "\n",
    "precision4,recall4,fscore4,support4 = score(y_train,model.predict(X_train)) \n",
    "precision4a,recall4a,fscore4a,support4a = score(y_test,model.predict(X_test))"
   ]
  },
  {
   "cell_type": "code",
   "execution_count": 71,
   "metadata": {
    "collapsed": true
   },
   "outputs": [],
   "source": [
    "model= KNN(n_neighbors=5).fit(X_train, y_train) \n",
    "\n",
    "precision5,recall5,fscore5,support5 = score(y_train,model.predict(X_train))\n",
    "precision5a,recall5a,fscore5a,support5a = score(y_test,model.predict(X_test))"
   ]
  },
  {
   "cell_type": "code",
   "execution_count": 72,
   "metadata": {
    "collapsed": true
   },
   "outputs": [],
   "source": [
    "model= KNN(n_neighbors=10).fit(X_train, y_train) \n",
    "\n",
    "precision6,recall6,fscore6,support6 = score(y_train,model.predict(X_train)) \n",
    "precision6a,recall6a,fscore6a,support6a = score(y_test,model.predict(X_test))"
   ]
  },
  {
   "cell_type": "code",
   "execution_count": 73,
   "metadata": {},
   "outputs": [
    {
     "data": {
      "text/html": [
       "<div>\n",
       "<style>\n",
       "    .dataframe thead tr:only-child th {\n",
       "        text-align: right;\n",
       "    }\n",
       "\n",
       "    .dataframe thead th {\n",
       "        text-align: left;\n",
       "    }\n",
       "\n",
       "    .dataframe tbody tr th {\n",
       "        vertical-align: top;\n",
       "    }\n",
       "</style>\n",
       "<table border=\"1\" class=\"dataframe\">\n",
       "  <thead>\n",
       "    <tr style=\"text-align: right;\">\n",
       "      <th></th>\n",
       "      <th>Model</th>\n",
       "      <th>Description</th>\n",
       "      <th>Precision</th>\n",
       "      <th>Recall</th>\n",
       "      <th>F1 Score</th>\n",
       "    </tr>\n",
       "  </thead>\n",
       "  <tbody>\n",
       "    <tr>\n",
       "      <th>0</th>\n",
       "      <td>SVM</td>\n",
       "      <td>Linear</td>\n",
       "      <td>0.975309</td>\n",
       "      <td>0.944444</td>\n",
       "      <td>0.957930</td>\n",
       "    </tr>\n",
       "    <tr>\n",
       "      <th>1</th>\n",
       "      <td>SVM</td>\n",
       "      <td>RBF</td>\n",
       "      <td>0.942529</td>\n",
       "      <td>0.861111</td>\n",
       "      <td>0.888867</td>\n",
       "    </tr>\n",
       "    <tr>\n",
       "      <th>2</th>\n",
       "      <td>LogReg</td>\n",
       "      <td>C = 5</td>\n",
       "      <td>0.981250</td>\n",
       "      <td>0.958333</td>\n",
       "      <td>0.968707</td>\n",
       "    </tr>\n",
       "    <tr>\n",
       "      <th>3</th>\n",
       "      <td>LogReg</td>\n",
       "      <td>C = 10</td>\n",
       "      <td>0.981250</td>\n",
       "      <td>0.958333</td>\n",
       "      <td>0.968707</td>\n",
       "    </tr>\n",
       "    <tr>\n",
       "      <th>4</th>\n",
       "      <td>KNN</td>\n",
       "      <td>V = 2</td>\n",
       "      <td>0.969512</td>\n",
       "      <td>0.930556</td>\n",
       "      <td>0.946963</td>\n",
       "    </tr>\n",
       "    <tr>\n",
       "      <th>5</th>\n",
       "      <td>KNN</td>\n",
       "      <td>V = 5</td>\n",
       "      <td>0.969512</td>\n",
       "      <td>0.930556</td>\n",
       "      <td>0.946963</td>\n",
       "    </tr>\n",
       "    <tr>\n",
       "      <th>6</th>\n",
       "      <td>KNN</td>\n",
       "      <td>V = 10</td>\n",
       "      <td>0.963855</td>\n",
       "      <td>0.916667</td>\n",
       "      <td>0.935795</td>\n",
       "    </tr>\n",
       "  </tbody>\n",
       "</table>\n",
       "</div>"
      ],
      "text/plain": [
       "    Model Description  Precision    Recall  F1 Score\n",
       "0     SVM      Linear   0.975309  0.944444  0.957930\n",
       "1     SVM         RBF   0.942529  0.861111  0.888867\n",
       "2  LogReg       C = 5   0.981250  0.958333  0.968707\n",
       "3  LogReg      C = 10   0.981250  0.958333  0.968707\n",
       "4     KNN       V = 2   0.969512  0.930556  0.946963\n",
       "5     KNN       V = 5   0.969512  0.930556  0.946963\n",
       "6     KNN      V = 10   0.963855  0.916667  0.935795"
      ]
     },
     "execution_count": 73,
     "metadata": {},
     "output_type": "execute_result"
    }
   ],
   "source": [
    "MTrain = pd.DataFrame({'Model':['SVM', 'SVM', 'LogReg', 'LogReg', 'KNN', 'KNN', 'KNN']})\n",
    "\n",
    "DTrain = pd.DataFrame({'Description':['Linear', 'RBF', 'C = 5', 'C = 10', 'V = 2', 'V = 5', 'V = 10']})\n",
    "\n",
    "PTrain = pd.DataFrame({'Precision':[np.mean(precision0), np.mean(precision1) , np.mean(precision2) , np.mean(precision3)\n",
    "                                     , np.mean(precision4), np.mean(precision5), np.mean(precision6)]})\n",
    "\n",
    "RTrain = pd.DataFrame({'Recall':[np.mean(recall0), np.mean(recall1) , np.mean(recall2) , np.mean(recall3)\n",
    "                                 , np.mean(recall4), np.mean(recall5), np.mean(recall6)]})\n",
    "\n",
    "FTrain = pd.DataFrame({'F1 Score':[np.mean(fscore0), np.mean(fscore1) , np.mean(fscore2) , np.mean(fscore3)\n",
    "                                     , np.mean(fscore4), np.mean(fscore5), np.mean(fscore6)]})\n",
    "\n",
    "MTrain.join(DTrain).join(PTrain).join(RTrain).join(FTrain)"
   ]
  },
  {
   "cell_type": "code",
   "execution_count": 74,
   "metadata": {},
   "outputs": [
    {
     "data": {
      "text/html": [
       "<div>\n",
       "<style>\n",
       "    .dataframe thead tr:only-child th {\n",
       "        text-align: right;\n",
       "    }\n",
       "\n",
       "    .dataframe thead th {\n",
       "        text-align: left;\n",
       "    }\n",
       "\n",
       "    .dataframe tbody tr th {\n",
       "        vertical-align: top;\n",
       "    }\n",
       "</style>\n",
       "<table border=\"1\" class=\"dataframe\">\n",
       "  <thead>\n",
       "    <tr style=\"text-align: right;\">\n",
       "      <th></th>\n",
       "      <th>Model</th>\n",
       "      <th>Description</th>\n",
       "      <th>Precision</th>\n",
       "      <th>Recall</th>\n",
       "      <th>F1 Score</th>\n",
       "    </tr>\n",
       "  </thead>\n",
       "  <tbody>\n",
       "    <tr>\n",
       "      <th>0</th>\n",
       "      <td>SVM</td>\n",
       "      <td>Linear</td>\n",
       "      <td>0.942614</td>\n",
       "      <td>0.912256</td>\n",
       "      <td>0.923616</td>\n",
       "    </tr>\n",
       "    <tr>\n",
       "      <th>1</th>\n",
       "      <td>SVM</td>\n",
       "      <td>RBF</td>\n",
       "      <td>0.911765</td>\n",
       "      <td>0.829545</td>\n",
       "      <td>0.848873</td>\n",
       "    </tr>\n",
       "    <tr>\n",
       "      <th>2</th>\n",
       "      <td>LogReg</td>\n",
       "      <td>C = 5</td>\n",
       "      <td>0.948869</td>\n",
       "      <td>0.923620</td>\n",
       "      <td>0.933521</td>\n",
       "    </tr>\n",
       "    <tr>\n",
       "      <th>3</th>\n",
       "      <td>LogReg</td>\n",
       "      <td>C = 10</td>\n",
       "      <td>0.955271</td>\n",
       "      <td>0.934984</td>\n",
       "      <td>0.943311</td>\n",
       "    </tr>\n",
       "    <tr>\n",
       "      <th>4</th>\n",
       "      <td>KNN</td>\n",
       "      <td>V = 2</td>\n",
       "      <td>0.941640</td>\n",
       "      <td>0.894886</td>\n",
       "      <td>0.910282</td>\n",
       "    </tr>\n",
       "    <tr>\n",
       "      <th>5</th>\n",
       "      <td>KNN</td>\n",
       "      <td>V = 5</td>\n",
       "      <td>0.941538</td>\n",
       "      <td>0.905519</td>\n",
       "      <td>0.918391</td>\n",
       "    </tr>\n",
       "    <tr>\n",
       "      <th>6</th>\n",
       "      <td>KNN</td>\n",
       "      <td>V = 10</td>\n",
       "      <td>0.933654</td>\n",
       "      <td>0.884578</td>\n",
       "      <td>0.900281</td>\n",
       "    </tr>\n",
       "  </tbody>\n",
       "</table>\n",
       "</div>"
      ],
      "text/plain": [
       "    Model Description  Precision    Recall  F1 Score\n",
       "0     SVM      Linear   0.942614  0.912256  0.923616\n",
       "1     SVM         RBF   0.911765  0.829545  0.848873\n",
       "2  LogReg       C = 5   0.948869  0.923620  0.933521\n",
       "3  LogReg      C = 10   0.955271  0.934984  0.943311\n",
       "4     KNN       V = 2   0.941640  0.894886  0.910282\n",
       "5     KNN       V = 5   0.941538  0.905519  0.918391\n",
       "6     KNN      V = 10   0.933654  0.884578  0.900281"
      ]
     },
     "execution_count": 74,
     "metadata": {},
     "output_type": "execute_result"
    }
   ],
   "source": [
    "MTest = pd.DataFrame({'Model':['SVM', 'SVM', 'LogReg', 'LogReg', 'KNN', 'KNN', 'KNN']})\n",
    "\n",
    "DTest = pd.DataFrame({'Description':['Linear', 'RBF', 'C = 5', 'C = 10', 'V = 2', 'V = 5', 'V = 10']})\n",
    "\n",
    "PTest = pd.DataFrame({'Precision':[np.mean(precision0a), np.mean(precision1a) , np.mean(precision2a) , \n",
    "                                   np.mean(precision3a), np.mean(precision4a), np.mean(precision5a), \n",
    "                                   np.mean(precision6a)]})\n",
    "\n",
    "RTest = pd.DataFrame({'Recall':[np.mean(recall0a), np.mean(recall1a) , np.mean(recall2a) , np.mean(recall3a)\n",
    "                                 , np.mean(recall4a), np.mean(recall5a), np.mean(recall6a)]})\n",
    "\n",
    "FTest = pd.DataFrame({'F1 Score':[np.mean(fscore0a), np.mean(fscore1a) , np.mean(fscore2a) , np.mean(fscore3a)\n",
    "                                     , np.mean(fscore4a), np.mean(fscore5a), np.mean(fscore6a)]})\n",
    "\n",
    "MTest.join(DTest).join(PTest).join(RTest).join(FTest)"
   ]
  },
  {
   "cell_type": "code",
   "execution_count": 85,
   "metadata": {
    "scrolled": true
   },
   "outputs": [
    {
     "data": {
      "image/png": "[encoded data removed]",
      "text/plain": [
       "<matplotlib.figure.Figure at 0x1a126a8d68>"
      ]
     },
     "metadata": {},
     "output_type": "display_data"
    },
    {
     "data": {
      "text/plain": [
       "array([ 0.79959938,  0.28024895,  0.90971689,  1.33703638, -0.89404277,\n",
       "        0.13317471,  2.93508534,  2.97564258, -0.69314126, -2.22273632,\n",
       "        1.56110066, -0.47790517,  1.06607849,  1.15383118,  1.06407188,\n",
       "       -0.58608688,  0.4637289 ,  0.38398343,  1.54707179,  0.07458848,\n",
       "        2.21160044,  2.17277151,  1.96186589,  2.04539866,  1.16001354,\n",
       "        0.14500122,  2.1427729 ,  2.4686188 ,  2.31836036])"
      ]
     },
     "execution_count": 85,
     "metadata": {},
     "output_type": "execute_result"
    }
   ],
   "source": [
    "model = LogReg(C=10).fit(X_train, y_train)\n",
    "coef = model.coef_[0]\n",
    "plt.barh(list(range(coef.shape[0])), coef, align='center')\n",
    "plt.show()\n",
    "\n",
    "coef"
   ]
  },
  {
   "cell_type": "markdown",
   "metadata": {},
   "source": [
    "Concavity and Concave Points are the features have the most influence in this model."
   ]
  },
  {
   "cell_type": "markdown",
   "metadata": {},
   "source": [
    "Ten real-valued features are computed for each cell nucleus:\n",
    "\ta) radius (mean of distances from center to points on the perimeter)\n",
    "\tb) texture (standard deviation of gray-scale values)\n",
    "\tc) perimeter\n",
    "\td) area\n",
    "\te) smoothness (local variation in radius lengths)\n",
    "\tf) compactness (perimeter^2 / area - 1.0)\n",
    "\tg) concavity (severity of concave portions of the contour)\n",
    "\th) concave points (number of concave portions of the contour)\n",
    "\ti) symmetry \n",
    "\tj) fractal dimension (\"coastline approximation\" - 1)"
   ]
  }
 ],
 "metadata": {
  "kernelspec": {
   "display_name": "Python 3",
   "language": "python",
   "name": "python3"
  },
  "language_info": {
   "codemirror_mode": {
    "name": "ipython",
    "version": 3
   },
   "file_extension": ".py",
   "mimetype": "text/x-python",
   "name": "python",
   "nbconvert_exporter": "python",
   "pygments_lexer": "ipython3",
   "version": "3.6.3"
  }
 },
 "nbformat": 4,
 "nbformat_minor": 2
}
