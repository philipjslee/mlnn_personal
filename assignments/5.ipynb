{
 "cells": [
  {
   "cell_type": "code",
   "execution_count": 304,
   "metadata": {
    "collapsed": true
   },
   "outputs": [],
   "source": [
    "from sklearn.linear_model import LinearRegression\n",
    "import numpy as np\n",
    "import matplotlib.pylab as plt\n",
    "%matplotlib inline\n",
    "from sklearn import linear_model\n",
    "import pandas as pd"
   ]
  },
  {
   "cell_type": "code",
   "execution_count": 305,
   "metadata": {},
   "outputs": [],
   "source": [
    "bikes = pd.read_csv('../data/2016-Q1-cabi-trip-history-data.csv', nrows=1000000)"
   ]
  },
  {
   "cell_type": "code",
   "execution_count": 306,
   "metadata": {},
   "outputs": [],
   "source": [
    "bikes['start'] = pd.to_datetime(bikes['Start date'],infer_datetime_format=True)\n",
    "bikes['end'] = pd.to_datetime(bikes['End date'], infer_datetime_format=True)\n",
    "bikes['hour_of_day'] = (bikes.start.dt.hour + (bikes.start.dt.minute/60).round(2))\n",
    "hours = bikes.groupby('hour_of_day').agg('count')\n",
    "hours['hour'] = hours.index"
   ]
  },
  {
   "cell_type": "code",
   "execution_count": 307,
   "metadata": {},
   "outputs": [],
   "source": [
    "x = hours.hour\n",
    "y = hours.start"
   ]
  },
  {
   "cell_type": "markdown",
   "metadata": {},
   "source": [
    "# Assignment 5"
   ]
  },
  {
   "cell_type": "markdown",
   "metadata": {},
   "source": [
    "## 1. Create and fit a Linear Regression Model\n",
    "## Calculate the Training error and Testing error using sklearn with a .50 split \n",
    "For error, use `mean_squared`, but if you want to experiment with other mean errors, please do!"
   ]
  },
  {
   "cell_type": "code",
   "execution_count": 308,
   "metadata": {},
   "outputs": [
    {
     "name": "stderr",
     "output_type": "stream",
     "text": [
      "/Users/JiSunPark/anaconda3/lib/python3.6/site-packages/ipykernel_launcher.py:3: FutureWarning: reshape is deprecated and will raise in a subsequent release. Please use .values.reshape(...) instead\n",
      "  This is separate from the ipykernel package so we can avoid doing imports until\n",
      "/Users/JiSunPark/anaconda3/lib/python3.6/site-packages/ipykernel_launcher.py:4: FutureWarning: reshape is deprecated and will raise in a subsequent release. Please use .values.reshape(...) instead\n",
      "  after removing the cwd from sys.path.\n",
      "/Users/JiSunPark/anaconda3/lib/python3.6/site-packages/ipykernel_launcher.py:5: FutureWarning: reshape is deprecated and will raise in a subsequent release. Please use .values.reshape(...) instead\n",
      "  \"\"\"\n",
      "/Users/JiSunPark/anaconda3/lib/python3.6/site-packages/ipykernel_launcher.py:6: FutureWarning: reshape is deprecated and will raise in a subsequent release. Please use .values.reshape(...) instead\n",
      "  \n"
     ]
    }
   ],
   "source": [
    "from sklearn.model_selection import train_test_split\n",
    "x_train, x_test, y_train, y_test = train_test_split(x, y, test_size=.5)\n",
    "x_train = x_train.reshape(-1,1)\n",
    "x_test = x_test.reshape(-1,1)\n",
    "y_train = y_train.reshape(-1,1)\n",
    "y_test = y_test.reshape(-1,1)"
   ]
  },
  {
   "cell_type": "code",
   "execution_count": 309,
   "metadata": {},
   "outputs": [],
   "source": [
    "model = LinearRegression().fit(x_train, y_train)"
   ]
  },
  {
   "cell_type": "code",
   "execution_count": 310,
   "metadata": {},
   "outputs": [
    {
     "data": {
      "text/plain": [
       "69672.291392360756"
      ]
     },
     "execution_count": 310,
     "metadata": {},
     "output_type": "execute_result"
    }
   ],
   "source": [
    "from sklearn.metrics import mean_squared_error\n",
    "\n",
    "mean_squared_error(y_train, model.predict(x_train))"
   ]
  },
  {
   "cell_type": "code",
   "execution_count": 311,
   "metadata": {},
   "outputs": [
    {
     "data": {
      "text/plain": [
       "82598.999166393129"
      ]
     },
     "execution_count": 311,
     "metadata": {},
     "output_type": "execute_result"
    }
   ],
   "source": [
    "mean_squared_error(y_test, model.predict(x_test))"
   ]
  },
  {
   "cell_type": "markdown",
   "metadata": {},
   "source": [
    "## 2.  Repeat #1 for a Ridge Regression"
   ]
  },
  {
   "cell_type": "code",
   "execution_count": 312,
   "metadata": {
    "collapsed": true
   },
   "outputs": [],
   "source": [
    "from sklearn.linear_model import Ridge"
   ]
  },
  {
   "cell_type": "code",
   "execution_count": 313,
   "metadata": {},
   "outputs": [],
   "source": [
    "model = Ridge().fit(x_train, y_train)"
   ]
  },
  {
   "cell_type": "code",
   "execution_count": 314,
   "metadata": {},
   "outputs": [
    {
     "data": {
      "text/plain": [
       "69672.291407880984"
      ]
     },
     "execution_count": 314,
     "metadata": {},
     "output_type": "execute_result"
    }
   ],
   "source": [
    "mean_squared_error(y_train, model.predict(x_train))"
   ]
  },
  {
   "cell_type": "code",
   "execution_count": 315,
   "metadata": {},
   "outputs": [
    {
     "data": {
      "text/plain": [
       "82598.87654637135"
      ]
     },
     "execution_count": 315,
     "metadata": {},
     "output_type": "execute_result"
    }
   ],
   "source": [
    "mean_squared_error(y_test, model.predict(x_test))"
   ]
  },
  {
   "cell_type": "markdown",
   "metadata": {},
   "source": [
    "## 3. Vary the `split` size from .01 to .99 with at least 10 values (the more the merrier!). Plot the resulting Training error and Testing error vs. `split` size. Create separate plots for Linear and Ridge. Train_size = (.001, .01, .1, .2, .4, .6, .8, .9)"
   ]
  },
  {
   "cell_type": "code",
   "execution_count": 316,
   "metadata": {
    "scrolled": true
   },
   "outputs": [
    {
     "name": "stderr",
     "output_type": "stream",
     "text": [
      "/Users/JiSunPark/anaconda3/lib/python3.6/site-packages/sklearn/model_selection/_split.py:2026: FutureWarning: From version 0.21, test_size will always complement train_size unless both are specified.\n",
      "  FutureWarning)\n",
      "/Users/JiSunPark/anaconda3/lib/python3.6/site-packages/ipykernel_launcher.py:7: FutureWarning: reshape is deprecated and will raise in a subsequent release. Please use .values.reshape(...) instead\n",
      "  import sys\n",
      "/Users/JiSunPark/anaconda3/lib/python3.6/site-packages/ipykernel_launcher.py:8: FutureWarning: reshape is deprecated and will raise in a subsequent release. Please use .values.reshape(...) instead\n",
      "  \n",
      "/Users/JiSunPark/anaconda3/lib/python3.6/site-packages/ipykernel_launcher.py:9: FutureWarning: reshape is deprecated and will raise in a subsequent release. Please use .values.reshape(...) instead\n",
      "  if __name__ == '__main__':\n",
      "/Users/JiSunPark/anaconda3/lib/python3.6/site-packages/ipykernel_launcher.py:10: FutureWarning: reshape is deprecated and will raise in a subsequent release. Please use .values.reshape(...) instead\n",
      "  # Remove the CWD from sys.path while we load stuff.\n"
     ]
    }
   ],
   "source": [
    "train_size = [.001,.01,.1,.2,.4,.6,.8,.9]\n",
    "error_list=[]\n",
    "\n",
    "for size in train_size:\n",
    "\n",
    "    x_train, x_test, y_train, y_test = train_test_split(x, y, train_size=size)\n",
    "    x_train = x_train.reshape(-1,1)\n",
    "    x_test = x_test.reshape(-1,1)\n",
    "    y_train = y_train.reshape(-1,1)\n",
    "    y_test = y_test.reshape(-1,1)\n",
    "    \n",
    "    model = LinearRegression().fit(x_train, y_train)\n",
    "    \n",
    "    train_error = mean_squared_error(y_train, model.predict(x_train))\n",
    "    test_error = mean_squared_error(y_test, model.predict(x_test))\n",
    "\n",
    "    error_list.append((size, train_error, test_error))"
   ]
  },
  {
   "cell_type": "code",
   "execution_count": 317,
   "metadata": {},
   "outputs": [
    {
     "data": {
      "text/plain": [
       "[(0.001, 0.0, 110365.48227936067),\n",
       " (0.01, 35217.478579198629, 91832.640295657577),\n",
       " (0.1, 77166.70697542034, 76580.672262976193),\n",
       " (0.2, 74549.379030298878, 77554.753158722844),\n",
       " (0.4, 71679.445827879186, 79064.469694851898),\n",
       " (0.6, 75323.416197902116, 77160.256795650537),\n",
       " (0.8, 77599.910377635446, 70023.26493853709),\n",
       " (0.9, 74383.63790548002, 91358.375900689571)]"
      ]
     },
     "execution_count": 317,
     "metadata": {},
     "output_type": "execute_result"
    }
   ],
   "source": [
    "error_list"
   ]
  },
  {
   "cell_type": "code",
   "execution_count": 318,
   "metadata": {},
   "outputs": [
    {
     "data": {
      "text/plain": [
       "<matplotlib.collections.PathCollection at 0x1a0c9e04e0>"
      ]
     },
     "execution_count": 318,
     "metadata": {},
     "output_type": "execute_result"
    },
    {
     "data": {
      "image/png": "[encoded data removed]",
      "text/plain": [
       "<matplotlib.figure.Figure at 0x1a0c9c91d0>"
      ]
     },
     "metadata": {},
     "output_type": "display_data"
    }
   ],
   "source": [
    "col1 = [x[0] for x in error_list]\n",
    "col2 = [x[1] for x in error_list]\n",
    "col3 = [x[2] for x in error_list]\n",
    "\n",
    "# train error plot\n",
    "plt.scatter(col1, col2)\n",
    "# test error plot\n",
    "plt.scatter(col1, col3, c = 'r')"
   ]
  },
  {
   "cell_type": "code",
   "execution_count": 319,
   "metadata": {
    "scrolled": false
   },
   "outputs": [
    {
     "name": "stderr",
     "output_type": "stream",
     "text": [
      "/Users/JiSunPark/anaconda3/lib/python3.6/site-packages/sklearn/model_selection/_split.py:2026: FutureWarning: From version 0.21, test_size will always complement train_size unless both are specified.\n",
      "  FutureWarning)\n",
      "/Users/JiSunPark/anaconda3/lib/python3.6/site-packages/ipykernel_launcher.py:5: FutureWarning: reshape is deprecated and will raise in a subsequent release. Please use .values.reshape(...) instead\n",
      "  \"\"\"\n",
      "/Users/JiSunPark/anaconda3/lib/python3.6/site-packages/ipykernel_launcher.py:6: FutureWarning: reshape is deprecated and will raise in a subsequent release. Please use .values.reshape(...) instead\n",
      "  \n",
      "/Users/JiSunPark/anaconda3/lib/python3.6/site-packages/ipykernel_launcher.py:7: FutureWarning: reshape is deprecated and will raise in a subsequent release. Please use .values.reshape(...) instead\n",
      "  import sys\n",
      "/Users/JiSunPark/anaconda3/lib/python3.6/site-packages/ipykernel_launcher.py:8: FutureWarning: reshape is deprecated and will raise in a subsequent release. Please use .values.reshape(...) instead\n",
      "  \n"
     ]
    }
   ],
   "source": [
    "error_list=[]\n",
    "for size in train_size:\n",
    "\n",
    "    x_train, x_test, y_train, y_test = train_test_split(x, y, train_size=size)\n",
    "    x_train = x_train.reshape(-1,1)\n",
    "    x_test = x_test.reshape(-1,1)\n",
    "    y_train = y_train.reshape(-1,1)\n",
    "    y_test = y_test.reshape(-1,1)\n",
    "    \n",
    "    model = Ridge().fit(x_train, y_train)\n",
    "    \n",
    "    train_error = mean_squared_error(y_train, model.predict(x_train))\n",
    "    test_error = mean_squared_error(y_test, model.predict(x_test))\n",
    "\n",
    "    error_list.append((size, train_error, test_error))"
   ]
  },
  {
   "cell_type": "code",
   "execution_count": 320,
   "metadata": {
    "scrolled": true
   },
   "outputs": [
    {
     "data": {
      "text/plain": [
       "[(0.001, 0.0, 92797.340514246011),\n",
       " (0.01, 74818.042376855636, 79500.198682458707),\n",
       " (0.1, 77265.395634689106, 76371.039044974954),\n",
       " (0.2, 76695.430672119182, 75965.715491951574),\n",
       " (0.4, 78409.111254772535, 74728.874999943087),\n",
       " (0.6, 77281.46023990243, 74272.22718269848),\n",
       " (0.8, 77686.947438151648, 69650.852089102933),\n",
       " (0.9, 76064.893351844177, 75904.104421425742)]"
      ]
     },
     "execution_count": 320,
     "metadata": {},
     "output_type": "execute_result"
    }
   ],
   "source": [
    "error_list"
   ]
  },
  {
   "cell_type": "code",
   "execution_count": 321,
   "metadata": {},
   "outputs": [
    {
     "data": {
      "text/plain": [
       "<matplotlib.collections.PathCollection at 0x1a1edf3e48>"
      ]
     },
     "execution_count": 321,
     "metadata": {},
     "output_type": "execute_result"
    },
    {
     "data": {
      "image/png": "[encoded data removed]",
      "text/plain": [
       "<matplotlib.figure.Figure at 0x1a0c738ba8>"
      ]
     },
     "metadata": {},
     "output_type": "display_data"
    }
   ],
   "source": [
    "col1 = [x[0] for x in error_list]\n",
    "col2 = [x[1] for x in error_list]\n",
    "col3 = [x[2] for x in error_list]\n",
    "\n",
    "# train error plot\n",
    "plt.scatter(col1, col2)\n",
    "# test error plot\n",
    "plt.scatter(col1, col3, c = 'r')"
   ]
  },
  {
   "cell_type": "markdown",
   "metadata": {},
   "source": [
    "## 4. Chose an ideal split size based on the previous plot for Ridge.\n",
    "## Vary the Ridge parameter `alpha` from 0 to any value you'd like above 1. Plot the Train and Test error. Describe what you see based on the `alpha` parameter's stiffness."
   ]
  },
  {
   "cell_type": "code",
   "execution_count": 361,
   "metadata": {},
   "outputs": [
    {
     "name": "stderr",
     "output_type": "stream",
     "text": [
      "/Users/JiSunPark/anaconda3/lib/python3.6/site-packages/sklearn/model_selection/_split.py:2026: FutureWarning: From version 0.21, test_size will always complement train_size unless both are specified.\n",
      "  FutureWarning)\n",
      "/Users/JiSunPark/anaconda3/lib/python3.6/site-packages/ipykernel_launcher.py:7: FutureWarning: reshape is deprecated and will raise in a subsequent release. Please use .values.reshape(...) instead\n",
      "  import sys\n",
      "/Users/JiSunPark/anaconda3/lib/python3.6/site-packages/ipykernel_launcher.py:8: FutureWarning: reshape is deprecated and will raise in a subsequent release. Please use .values.reshape(...) instead\n",
      "  \n",
      "/Users/JiSunPark/anaconda3/lib/python3.6/site-packages/ipykernel_launcher.py:9: FutureWarning: reshape is deprecated and will raise in a subsequent release. Please use .values.reshape(...) instead\n",
      "  if __name__ == '__main__':\n",
      "/Users/JiSunPark/anaconda3/lib/python3.6/site-packages/ipykernel_launcher.py:10: FutureWarning: reshape is deprecated and will raise in a subsequent release. Please use .values.reshape(...) instead\n",
      "  # Remove the CWD from sys.path while we load stuff.\n"
     ]
    }
   ],
   "source": [
    "alpha_values = [1, 10, 25, 50, 100, 200, 500, 1000, 2000, 5000, 6000, 7000, 8000, 9000, 10000]\n",
    "error_list=[]\n",
    "\n",
    "for av in alpha_values:\n",
    "\n",
    "    x_train, x_test, y_train, y_test = train_test_split(x, y, train_size=.8)\n",
    "    x_train = x_train.reshape(-1,1)\n",
    "    x_test = x_test.reshape(-1,1)\n",
    "    y_train = y_train.reshape(-1,1)\n",
    "    y_test = y_test.reshape(-1,1)\n",
    "    \n",
    "    model = Ridge(alpha=av).fit(x_train, y_train)\n",
    "    \n",
    "    train_error = mean_squared_error(y_train, model.predict(x_train))\n",
    "    test_error = mean_squared_error(y_test, model.predict(x_test))\n",
    "\n",
    "    error_list.append((av, train_error, test_error))"
   ]
  },
  {
   "cell_type": "code",
   "execution_count": 362,
   "metadata": {},
   "outputs": [
    {
     "data": {
      "text/plain": [
       "[(1, 76030.80018439125, 76209.626454160825),\n",
       " (10, 77236.245103764042, 71867.751680586312),\n",
       " (25, 75024.972814121938, 80152.821496111661),\n",
       " (50, 76779.910622816387, 73275.999266285144),\n",
       " (100, 76274.108028797666, 75339.562317622243),\n",
       " (200, 73278.298864523429, 87237.795678571667),\n",
       " (500, 73993.317380054767, 84289.547286038462),\n",
       " (1000, 76289.397437526743, 75207.007895880655),\n",
       " (2000, 73478.681903881559, 86611.494514050748),\n",
       " (5000, 74949.707859753384, 81292.293593176713),\n",
       " (6000, 76819.179606494261, 73636.79206712218),\n",
       " (7000, 75855.440242545243, 78537.202675430817),\n",
       " (8000, 78045.194675927909, 69069.312849820781),\n",
       " (9000, 76000.95001685906, 77614.518865402119),\n",
       " (10000, 75050.235468209896, 82682.764648693308)]"
      ]
     },
     "execution_count": 362,
     "metadata": {},
     "output_type": "execute_result"
    }
   ],
   "source": [
    "error_list"
   ]
  },
  {
   "cell_type": "code",
   "execution_count": 363,
   "metadata": {},
   "outputs": [
    {
     "data": {
      "text/plain": [
       "<matplotlib.collections.PathCollection at 0x1a1abd4908>"
      ]
     },
     "execution_count": 363,
     "metadata": {},
     "output_type": "execute_result"
    },
    {
     "data": {
      "image/png": "[encoded data removed]",
      "text/plain": [
       "<matplotlib.figure.Figure at 0x1a1ab81fd0>"
      ]
     },
     "metadata": {},
     "output_type": "display_data"
    }
   ],
   "source": [
    "col1 = [x[0] for x in error_list]\n",
    "col2 = [x[1] for x in error_list]\n",
    "col3 = [x[2] for x in error_list]\n",
    "\n",
    "# train error plot\n",
    "plt.scatter(col1, col2)\n",
    "# test error plot\n",
    "plt.scatter(col1, col3, c = 'r')"
   ]
  },
  {
   "cell_type": "markdown",
   "metadata": {},
   "source": [
    "Initially, the testing error is much higher than the training error. Eventually, as the alpha parameter continues to increase (becomes more stiff), both training error and testing error become closer together."
   ]
  },
  {
   "cell_type": "markdown",
   "metadata": {},
   "source": [
    "## Bonus. Either: Generate data  with a polynomial shape or use real data that you find on your own. Choose whatever regression model and process you'd like (Ridge, polynomial, etc.) and plot the Train-Test errors vs. any parameter your Model depends on (e.g. `alpha`, `degree`, etc.)"
   ]
  },
  {
   "cell_type": "code",
   "execution_count": 325,
   "metadata": {},
   "outputs": [
    {
     "data": {
      "text/plain": [
       "<matplotlib.collections.PathCollection at 0x1a2a1e8898>"
      ]
     },
     "execution_count": 325,
     "metadata": {},
     "output_type": "execute_result"
    },
    {
     "data": {
      "image/png": "[encoded data removed]",
      "text/plain": [
       "<matplotlib.figure.Figure at 0x1a0c734f60>"
      ]
     },
     "metadata": {},
     "output_type": "display_data"
    }
   ],
   "source": [
    "from sklearn.preprocessing import PolynomialFeatures\n",
    "\n",
    "n1 = 500000\n",
    "x1 = np.linspace(0.01, 1, n1).reshape(-1, 1)\n",
    "y1 = (np.linspace(0.01, 3, n1) - 2) * (np.linspace(0.01, 3, n1) + 3) + np.random.rand(n1) - .5\n",
    "\n",
    "plt.scatter(x1,y1)"
   ]
  },
  {
   "cell_type": "code",
   "execution_count": 326,
   "metadata": {},
   "outputs": [
    {
     "name": "stderr",
     "output_type": "stream",
     "text": [
      "/Users/JiSunPark/anaconda3/lib/python3.6/site-packages/sklearn/model_selection/_split.py:2026: FutureWarning: From version 0.21, test_size will always complement train_size unless both are specified.\n",
      "  FutureWarning)\n"
     ]
    }
   ],
   "source": [
    "x1_train, x1_test, y1_train, y1_test = train_test_split (x1, y1, train_size=.8)"
   ]
  },
  {
   "cell_type": "code",
   "execution_count": 327,
   "metadata": {
    "collapsed": true
   },
   "outputs": [],
   "source": [
    "poly_list = [1, 2, 3, 4, 5, 10]\n",
    "error_list = []\n",
    "def transform(x):\n",
    "    return poly.transform(x.reshape(-1, 1))"
   ]
  },
  {
   "cell_type": "code",
   "execution_count": 328,
   "metadata": {},
   "outputs": [],
   "source": [
    "for p in poly_list:\n",
    "    poly = PolynomialFeatures(degree=p)\n",
    "    poly.fit(x1_train.reshape(-1,1))\n",
    "    \n",
    "    lin1 = LinearRegression().fit(transform(x1_train), y1_train.flatten())\n",
    "\n",
    "    train_error = mean_squared_error(y1_train, lin1.predict((transform(x1_train))))\n",
    "    test_error = mean_squared_error(y1_test, lin1.predict(transform(x1_test)))\n",
    "    error_list.append((p, train_error, test_error))"
   ]
  },
  {
   "cell_type": "code",
   "execution_count": 329,
   "metadata": {},
   "outputs": [
    {
     "data": {
      "text/plain": [
       "[(1, 0.5270469313244277, 0.52686870467819957),\n",
       " (2, 0.083120715592435848, 0.083207622072440521),\n",
       " (3, 0.083120668539182513, 0.083207867508726191),\n",
       " (4, 0.08312065074928536, 0.083207898553794388),\n",
       " (5, 0.083120052204403203, 0.083208612502782192),\n",
       " (10, 0.083119698148003032, 0.083209992248451659)]"
      ]
     },
     "execution_count": 329,
     "metadata": {},
     "output_type": "execute_result"
    }
   ],
   "source": [
    "error_list"
   ]
  },
  {
   "cell_type": "code",
   "execution_count": 330,
   "metadata": {},
   "outputs": [
    {
     "data": {
      "text/plain": [
       "<matplotlib.collections.PathCollection at 0x1a1fcef748>"
      ]
     },
     "execution_count": 330,
     "metadata": {},
     "output_type": "execute_result"
    },
    {
     "data": {
      "image/png": "[encoded data removed]",
      "text/plain": [
       "<matplotlib.figure.Figure at 0x1a2a1fbd30>"
      ]
     },
     "metadata": {},
     "output_type": "display_data"
    }
   ],
   "source": [
    "col1 = [x[0] for x in error_list]\n",
    "col2 = [x[1] for x in error_list]\n",
    "col3 = [x[2] for x in error_list]\n",
    "\n",
    "# train error plot\n",
    "plt.scatter(col1, col2)\n",
    "# test error plot\n",
    "plt.scatter(col1, col3, c = 'r')"
   ]
  }
 ],
 "metadata": {
  "kernelspec": {
   "display_name": "Python 3",
   "language": "python",
   "name": "python3"
  },
  "language_info": {
   "codemirror_mode": {
    "name": "ipython",
    "version": 3
   },
   "file_extension": ".py",
   "mimetype": "text/x-python",
   "name": "python",
   "nbconvert_exporter": "python",
   "pygments_lexer": "ipython3",
   "version": "3.6.3"
  }
 },
 "nbformat": 4,
 "nbformat_minor": 2
}
