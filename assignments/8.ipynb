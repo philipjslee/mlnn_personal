{
 "cells": [
  {
   "cell_type": "markdown",
   "metadata": {},
   "source": [
    "# Assignment 8\n",
    "Using any dataset that has a categorical feature that needs to be predicted, use several algorithms, preprocessing techniques, feature extraction techniques to fit the data to the model and show the accuracy, confusion matrix, and the classification report. G\n",
    "https://www.kaggle.com/ntnu-testimon/paysim1\n",
    "https://www.kaggle.com/joniarroba/noshowappointments\n",
    "https://archive.ics.uci.edu/ml/datasets.html?format=&task=cla&att=&area=&numAtt=&numIns=&type=&sort=nameUp&view=table\n",
    "https://archive.ics.uci.edu/ml/datasets/default+of+credit+card+clients\n",
    "https://archive.ics.uci.edu/ml/datasets/Adult"
   ]
  },
  {
   "cell_type": "code",
   "execution_count": 16,
   "metadata": {
    "collapsed": true
   },
   "outputs": [],
   "source": [
    "%matplotlib inline\n",
    "import numpy as np\n",
    "import matplotlib.pyplot as plt\n",
    "import pandas as pd\n",
    "\n",
    "from sklearn.metrics import accuracy_score\n",
    "from sklearn.metrics import confusion_matrix\n",
    "from sklearn.metrics import classification_report\n",
    "from sklearn.metrics import precision_recall_fscore_support as score\n",
    "from sklearn import preprocessing\n",
    "#import sklearn.preprocessing\n",
    "\n",
    "from sklearn import linear_model, datasets, svm, neighbors\n",
    "from sklearn.linear_model import LogisticRegression as LogReg\n",
    "from sklearn.neighbors import KNeighborsClassifier as KNN"
   ]
  },
  {
   "cell_type": "code",
   "execution_count": 17,
   "metadata": {
    "collapsed": true
   },
   "outputs": [],
   "source": [
    "import pandas as pd\n",
    "adult = pd.read_csv('../data/adult.data.txt', header=None, names = ['age', 'workclass', \n",
    "                'fnlwgt','education','education-num','marital-status'\n",
    "              ,'occupation','relationship','race','sex','capital-gain','capital-loss'\n",
    "             , 'hours-per-week','native-country','50k'] )"
   ]
  },
  {
   "cell_type": "code",
   "execution_count": 18,
   "metadata": {},
   "outputs": [],
   "source": [
    "LE = preprocessing.LabelEncoder()\n",
    "adult['50k'] = LE.fit_transform(adult['50k'])"
   ]
  },
  {
   "cell_type": "markdown",
   "metadata": {},
   "source": [
    "| <=50k| >50k|\n",
    "|------|------|\n",
    "|   0  | 1|"
   ]
  },
  {
   "cell_type": "code",
   "execution_count": 19,
   "metadata": {
    "scrolled": true
   },
   "outputs": [
    {
     "data": {
      "text/plain": [
       " Husband           13193\n",
       " Not-in-family      8305\n",
       " Own-child          5068\n",
       " Unmarried          3446\n",
       " Wife               1568\n",
       " Other-relative      981\n",
       "Name: relationship, dtype: int64"
      ]
     },
     "execution_count": 19,
     "metadata": {},
     "output_type": "execute_result"
    }
   ],
   "source": [
    "adult['relationship'].value_counts()"
   ]
  },
  {
   "cell_type": "code",
   "execution_count": 20,
   "metadata": {
    "collapsed": true
   },
   "outputs": [],
   "source": [
    "relation = LE.fit_transform(adult['relationship'])\n",
    "adult['relation'] = relation"
   ]
  },
  {
   "cell_type": "markdown",
   "metadata": {},
   "source": [
    "| Married-civ-spouse| Never-married| Divorced | Separated | Widowed | Married-spouse-absent | Married-AF-spouse|\n",
    "|------|------|------|------|------|------|------|\n",
    "|   2  | 4    |0     |5     |6     |3     |1     |"
   ]
  },
  {
   "cell_type": "code",
   "execution_count": 21,
   "metadata": {},
   "outputs": [
    {
     "name": "stdout",
     "output_type": "stream",
     "text": [
      "[-0.99998205] [[  6.70814156e-05  -9.35471096e-05]]\n",
      "0.759190442554\n"
     ]
    },
    {
     "name": "stderr",
     "output_type": "stream",
     "text": [
      "/Users/JiSunPark/anaconda3/lib/python3.6/site-packages/sklearn/metrics/classification.py:1135: UndefinedMetricWarning: Precision and F-score are ill-defined and being set to 0.0 in labels with no predicted samples.\n",
      "  'precision', 'predicted', average, warn_for)\n"
     ]
    },
    {
     "name": "stdout",
     "output_type": "stream",
     "text": [
      "             precision    recall  f1-score   support\n",
      "\n",
      "          0       0.76      1.00      0.86     24720\n",
      "          1       0.00      0.00      0.00      7841\n",
      "\n",
      "avg / total       0.58      0.76      0.66     32561\n",
      "\n",
      "[[24720     0]\n",
      " [ 7841     0]]\n"
     ]
    }
   ],
   "source": [
    "feature_cols = ['age','relation']\n",
    "\n",
    "X = adult[feature_cols]\n",
    "X = preprocessing.MinMaxScaler().fit_transform(X)\n",
    "y = adult['50k']\n",
    "\n",
    "model = svm.SVC(kernel='linear').fit(X, y)\n",
    "\n",
    "print(model.intercept_, model.coef_)\n",
    "print (accuracy_score(y, model.predict(X)))\n",
    "print(classification_report(y, model.predict(X)))\n",
    "print(confusion_matrix(y, model.predict(X)))"
   ]
  },
  {
   "cell_type": "code",
   "execution_count": 22,
   "metadata": {
    "scrolled": true
   },
   "outputs": [
    {
     "name": "stdout",
     "output_type": "stream",
     "text": [
      "0.759190442554\n"
     ]
    },
    {
     "name": "stderr",
     "output_type": "stream",
     "text": [
      "/Users/JiSunPark/anaconda3/lib/python3.6/site-packages/sklearn/metrics/classification.py:1135: UndefinedMetricWarning: Precision and F-score are ill-defined and being set to 0.0 in labels with no predicted samples.\n",
      "  'precision', 'predicted', average, warn_for)\n"
     ]
    },
    {
     "name": "stdout",
     "output_type": "stream",
     "text": [
      "             precision    recall  f1-score   support\n",
      "\n",
      "          0       0.76      1.00      0.86     24720\n",
      "          1       0.00      0.00      0.00      7841\n",
      "\n",
      "avg / total       0.58      0.76      0.66     32561\n",
      "\n",
      "[[24720     0]\n",
      " [ 7841     0]]\n"
     ]
    }
   ],
   "source": [
    "feature_cols = ['age','relation']\n",
    "\n",
    "X = adult[feature_cols]\n",
    "X = preprocessing.MinMaxScaler().fit_transform(X)\n",
    "y = adult['50k']\n",
    "\n",
    "model = svm.SVC(kernel='rbf').fit(X, y)\n",
    "\n",
    "print(accuracy_score(y, model.predict(X)))\n",
    "print(classification_report(y, model.predict(X)))\n",
    "print(confusion_matrix(y, model.predict(X)))"
   ]
  },
  {
   "cell_type": "code",
   "execution_count": 23,
   "metadata": {},
   "outputs": [
    {
     "name": "stdout",
     "output_type": "stream",
     "text": [
      "0.747458616136\n",
      "             precision    recall  f1-score   support\n",
      "\n",
      "          0       0.76      0.97      0.85     24720\n",
      "          1       0.29      0.03      0.06      7841\n",
      "\n",
      "avg / total       0.65      0.75      0.66     32561\n",
      "\n",
      "[[24066   654]\n",
      " [ 7569   272]]\n"
     ]
    }
   ],
   "source": [
    "feature_cols = ['age','relation']\n",
    "\n",
    "X = adult[feature_cols]\n",
    "X = preprocessing.MinMaxScaler().fit_transform(X)\n",
    "y = adult['50k']\n",
    "\n",
    "model = LogReg(C=5).fit(X, y)\n",
    "\n",
    "print(accuracy_score(y, model.predict(X)))\n",
    "print(classification_report(y, model.predict(X)))\n",
    "print(confusion_matrix(y, model.predict(X)))"
   ]
  },
  {
   "cell_type": "code",
   "execution_count": 24,
   "metadata": {},
   "outputs": [
    {
     "name": "stdout",
     "output_type": "stream",
     "text": [
      "0.747458616136\n",
      "             precision    recall  f1-score   support\n",
      "\n",
      "          0       0.76      0.97      0.85     24720\n",
      "          1       0.29      0.03      0.06      7841\n",
      "\n",
      "avg / total       0.65      0.75      0.66     32561\n",
      "\n",
      "[[24066   654]\n",
      " [ 7569   272]]\n"
     ]
    }
   ],
   "source": [
    "feature_cols = ['age','relation']\n",
    "\n",
    "X = adult[feature_cols]\n",
    "X = preprocessing.MinMaxScaler().fit_transform(X)\n",
    "y = adult['50k']\n",
    "\n",
    "model = LogReg(C=10).fit(X, y)\n",
    "\n",
    "print(accuracy_score(y, model.predict(X)))\n",
    "print(classification_report(y, model.predict(X)))\n",
    "print(confusion_matrix(y, model.predict(X)))"
   ]
  },
  {
   "cell_type": "code",
   "execution_count": 25,
   "metadata": {},
   "outputs": [
    {
     "name": "stdout",
     "output_type": "stream",
     "text": [
      "0.750314793772\n",
      "             precision    recall  f1-score   support\n",
      "\n",
      "          0       0.82      0.85      0.84     24720\n",
      "          1       0.48      0.42      0.45      7841\n",
      "\n",
      "avg / total       0.74      0.75      0.74     32561\n",
      "\n",
      "[[21127  3593]\n",
      " [ 4537  3304]]\n"
     ]
    }
   ],
   "source": [
    "feature_cols = ['age','relation']\n",
    "\n",
    "X = adult[feature_cols]\n",
    "X = preprocessing.MinMaxScaler().fit_transform(X)\n",
    "y = adult['50k']\n",
    "\n",
    "model = KNN(n_neighbors=5).fit(X, y)\n",
    "\n",
    "print(accuracy_score(y, model.predict(X)))\n",
    "print(classification_report(y, model.predict(X)))\n",
    "print(confusion_matrix(y, model.predict(X)))"
   ]
  },
  {
   "cell_type": "code",
   "execution_count": 26,
   "metadata": {
    "scrolled": true
   },
   "outputs": [
    {
     "name": "stdout",
     "output_type": "stream",
     "text": [
      "0.759835385891\n",
      "             precision    recall  f1-score   support\n",
      "\n",
      "          0       0.83      0.85      0.84     24720\n",
      "          1       0.50      0.46      0.48      7841\n",
      "\n",
      "avg / total       0.75      0.76      0.76     32561\n",
      "\n",
      "[[21115  3605]\n",
      " [ 4215  3626]]\n"
     ]
    }
   ],
   "source": [
    "feature_cols = ['age','relation']\n",
    "\n",
    "X = adult[feature_cols]\n",
    "X = preprocessing.MinMaxScaler().fit_transform(X)\n",
    "y = adult['50k']\n",
    "\n",
    "model = KNN(n_neighbors=7).fit(X, y)\n",
    "\n",
    "print(accuracy_score(y, model.predict(X)))\n",
    "print(classification_report(y, model.predict(X)))\n",
    "print(confusion_matrix(y, model.predict(X)))"
   ]
  },
  {
   "cell_type": "markdown",
   "metadata": {},
   "source": [
    "After comparing the confusion matrix and accuracy scores, it looks like that the best model for these features were KNN (n_neighbors=7)"
   ]
  },
  {
   "cell_type": "code",
   "execution_count": 27,
   "metadata": {
    "scrolled": true
   },
   "outputs": [
    {
     "name": "stdout",
     "output_type": "stream",
     "text": [
      "0.76656122355\n",
      "             precision    recall  f1-score   support\n",
      "\n",
      "          0       0.82      0.89      0.85     24720\n",
      "          1       0.52      0.37      0.43      7841\n",
      "\n",
      "avg / total       0.75      0.77      0.75     32561\n",
      "\n",
      "[[22095  2625]\n",
      " [ 4976  2865]]\n"
     ]
    }
   ],
   "source": [
    "# test to see if NOT transforming X will make a difference\n",
    "feature_cols = ['age','relation']\n",
    "\n",
    "X = adult[feature_cols]\n",
    "y = adult['50k']\n",
    "\n",
    "model = KNN(n_neighbors=7).fit(X, y)\n",
    "\n",
    "print(accuracy_score(y, model.predict(X)))\n",
    "print(classification_report(y, model.predict(X)))\n",
    "print(confusion_matrix(y, model.predict(X)))"
   ]
  },
  {
   "cell_type": "markdown",
   "metadata": {},
   "source": [
    "Not transforming X decreased the accuracy score and most of the values in the confusion matrix. Therefore, it is beneficial to transform X."
   ]
  },
  {
   "cell_type": "code",
   "execution_count": 28,
   "metadata": {
    "collapsed": true
   },
   "outputs": [],
   "source": [
    "onehot = preprocessing.OneHotEncoder(sparse=False)\n",
    "relation_columns = onehot.fit_transform(adult[['relation']])\n",
    "re_df = pd.DataFrame(relation_columns)\n",
    "re_df.columns = [\"re\" + str(i) for i in range(0, 6)]\n",
    "adult2 = pd.concat([adult, re_df], axis=1)"
   ]
  },
  {
   "cell_type": "code",
   "execution_count": 29,
   "metadata": {},
   "outputs": [
    {
     "name": "stdout",
     "output_type": "stream",
     "text": [
      "0.762630140352\n",
      "             precision    recall  f1-score   support\n",
      "\n",
      "          0       0.81      0.89      0.85     24720\n",
      "          1       0.51      0.36      0.42      7841\n",
      "\n",
      "avg / total       0.74      0.76      0.75     32561\n",
      "\n",
      "[[22032  2688]\n",
      " [ 5041  2800]]\n"
     ]
    }
   ],
   "source": [
    "feature_cols = ['age','re0', 're1', 're2','re3', 're4', 're5']\n",
    "\n",
    "X = adult2[feature_cols]\n",
    "X = preprocessing.MinMaxScaler().fit_transform(X)\n",
    "y = adult2['50k']\n",
    "\n",
    "model = KNN(n_neighbors=7).fit(X, y)\n",
    "\n",
    "print(accuracy_score(y, model.predict(X)))\n",
    "print(classification_report(y, model.predict(X)))\n",
    "print(confusion_matrix(y, model.predict(X)))"
   ]
  },
  {
   "cell_type": "markdown",
   "metadata": {
    "collapsed": true
   },
   "source": [
    "One hot encoding did not make a significant change to the accuracy score and the confusion matrix values."
   ]
  }
 ],
 "metadata": {
  "kernelspec": {
   "display_name": "Python 3",
   "language": "python",
   "name": "python3"
  },
  "language_info": {
   "codemirror_mode": {
    "name": "ipython",
    "version": 3
   },
   "file_extension": ".py",
   "mimetype": "text/x-python",
   "name": "python",
   "nbconvert_exporter": "python",
   "pygments_lexer": "ipython3",
   "version": "3.6.3"
  }
 },
 "nbformat": 4,
 "nbformat_minor": 2
}
